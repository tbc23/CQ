{
 "cells": [
  {
   "cell_type": "markdown",
   "metadata": {},
   "source": [
    "# Qiskit 2 - 2020/2021"
   ]
  },
  {
   "cell_type": "markdown",
   "metadata": {},
   "source": [
    "### [Update](https://qiskit.org/documentation/release_notes.html) \n",
    "\n",
    "#### Qiskit 0.25.0¶\n",
    "\n",
    "This release officially deprecates the Qiskit Aqua project. Accordingly, in a future release the qiskit-aqua package will be removed from the Qiskit metapackage, which means in that future release pip install qiskit will no longer include qiskit-aqua. The application modules that are provided by qiskit-aqua have been split into several new packages: qiskit-optimization, qiskit-nature, qiskit-machine-learning, and qiskit-finance. "
   ]
  },
  {
   "cell_type": "markdown",
   "metadata": {},
   "source": [
    "&nbsp;\n",
    "\n",
    "## Contents\n",
    "\n",
    "&nbsp;\n",
    "\n",
    "1. [Working with the IBMQ backends](#ibmq)\n",
    "    \n",
    "    1.1 [Experimental properties](#exp)\n",
    "    \n",
    "    1.2 [Interactive tools](#ipywid)\n",
    "    \n",
    "    1.3 [Quantum half-adder, revisited](#qha)\n",
    "    \n",
    "    \n",
    "2. [Quantum Teleportation protocol](#quantumteleport)\n",
    "\n",
    "&nbsp;"
   ]
  },
  {
   "cell_type": "markdown",
   "metadata": {},
   "source": [
    "# 1. Working with the IBMQ backends<a id='ibmq'></a>\n",
    "\n",
    "&nbsp;\n",
    "\n",
    "#### Loading the IBMQ account\n",
    "\n",
    "\n",
    "The `IBMQ` module of Qiskit provides the framework to work with the free-access quantum devices that are currently available.\n",
    "\n",
    "<div class=\"alert alert-block alert-info\">\n",
    "    \n",
    "**Managing your [access](https://quantum-computing.ibm.com/docs/manage/account/ibmq) token**\n",
    "\n",
    "&nbsp;\n",
    "\n",
    "\n",
    "Before working with the backends for the first time, a `TOKEN` from an [IBM Quantum Experience](https://quantum-computing.ibm.com/) account is necessary. After creating and logging into an account, the token string can be copied from:\n",
    "\n",
    "&nbsp;\n",
    "\n",
    "<p style=\"text-align: center;\"><a href=\"https://quantum-computing.ibm.com/account\">https://quantum-computing.ibm.com/account</a></p>\n",
    "\n",
    "&nbsp;\n",
    "\n",
    "This string is used as a personal credential for handling communication with the quantum processors. There are several commands to manage credentials:\n",
    "\n",
    "- `enable_account('TOKEN')`: Enable account in the current session.\n",
    "- `save_account('TOKEN')`: Save account to disk for future use.\n",
    "- `load_account()`: Load account using stored credentials.\n",
    "- `disable_account()`: Disable account in the current session.\n",
    "- `stored_account()`: List the account stored to disk.\n",
    "- `active_account()`: List the account currently in the session.\n",
    "- `delete_account()`: Delete the saved account from disk.\n",
    "\n",
    "</div>\n"
   ]
  },
  {
   "cell_type": "markdown",
   "metadata": {},
   "source": [
    "#### Module imports"
   ]
  },
  {
   "cell_type": "code",
   "execution_count": 2,
   "metadata": {},
   "outputs": [],
   "source": [
    "from qiskit import (QuantumCircuit, ClassicalRegister, QuantumRegister, \n",
    "                    IBMQ, Aer, execute, transpile)\n",
    "\n",
    "from qiskit.tools.visualization import plot_histogram, plot_circuit_layout, plot_gate_map\n",
    "\n",
    "from qiskit.providers.ibmq import least_busy\n",
    "\n",
    "from math import pi\n",
    "import numpy as np"
   ]
  },
  {
   "cell_type": "code",
   "execution_count": 2,
   "metadata": {},
   "outputs": [
    {
     "data": {
      "text/plain": [
       "<AccountProvider for IBMQ(hub='ibm-q', group='open', project='main')>"
      ]
     },
     "execution_count": 2,
     "metadata": {},
     "output_type": "execute_result"
    }
   ],
   "source": [
    "# Replace TOKEN with your string\n",
    "\n",
    "IBMQ.save_account('835c060c9b33c13286f9164bf5088bd354e1fdfce5b57d71d1a7f0f5ccd80bd311a886cd5b00d90f8746f736c0bca52d264f86996a16938cfcbdd89e0c3a35b0')\n",
    "\n",
    "# In subsequent sessios the Token can be loaded from disk\n",
    "\n",
    "IBMQ.load_account()"
   ]
  },
  {
   "cell_type": "markdown",
   "metadata": {},
   "source": [
    "&nbsp;\n",
    "\n",
    "By invoking `get_provider()` one can initiate a provider object to retrieve backend information or selecting a backend:\n",
    "\n",
    "- `backends()`: Returns all backend objects known to the provider.\n",
    "- `get_backend('NAME')`: Returns the named backend.\n",
    "\n",
    "&nbsp;"
   ]
  },
  {
   "cell_type": "code",
   "execution_count": 5,
   "metadata": {},
   "outputs": [
    {
     "data": {
      "text/plain": [
       "[<IBMQSimulator('ibmq_qasm_simulator') from IBMQ(hub='ibm-q', group='open', project='main')>,\n",
       " <IBMQBackend('ibmqx2') from IBMQ(hub='ibm-q', group='open', project='main')>,\n",
       " <IBMQBackend('ibmq_16_melbourne') from IBMQ(hub='ibm-q', group='open', project='main')>,\n",
       " <IBMQBackend('ibmq_armonk') from IBMQ(hub='ibm-q', group='open', project='main')>,\n",
       " <IBMQBackend('ibmq_athens') from IBMQ(hub='ibm-q', group='open', project='main')>,\n",
       " <IBMQBackend('ibmq_santiago') from IBMQ(hub='ibm-q', group='open', project='main')>,\n",
       " <IBMQBackend('ibmq_lima') from IBMQ(hub='ibm-q', group='open', project='main')>,\n",
       " <IBMQBackend('ibmq_belem') from IBMQ(hub='ibm-q', group='open', project='main')>,\n",
       " <IBMQBackend('ibmq_quito') from IBMQ(hub='ibm-q', group='open', project='main')>,\n",
       " <IBMQSimulator('simulator_statevector') from IBMQ(hub='ibm-q', group='open', project='main')>,\n",
       " <IBMQSimulator('simulator_mps') from IBMQ(hub='ibm-q', group='open', project='main')>,\n",
       " <IBMQSimulator('simulator_extended_stabilizer') from IBMQ(hub='ibm-q', group='open', project='main')>,\n",
       " <IBMQSimulator('simulator_stabilizer') from IBMQ(hub='ibm-q', group='open', project='main')>]"
      ]
     },
     "execution_count": 5,
     "metadata": {},
     "output_type": "execute_result"
    }
   ],
   "source": [
    "provider = IBMQ.get_provider(hub='ibm-q')\n",
    "provider.backends()"
   ]
  },
  {
   "cell_type": "code",
   "execution_count": 4,
   "metadata": {},
   "outputs": [
    {
     "name": "stdout",
     "output_type": "stream",
     "text": [
      "ibmq_belem\n"
     ]
    }
   ],
   "source": [
    "# Use least_busy() to find out which quantum device is the least busy\n",
    "\n",
    "physical_devices = provider.backends(simulator=False, operational=True, open_pulse=False)\n",
    "\n",
    "backend = least_busy(physical_devices)\n",
    "\n",
    "# Alternative: get backend directly by name\n",
    "\n",
    "#backend = provider.get_backend('ibmq_16_melbourne')\n",
    "\n",
    "print(backend)"
   ]
  },
  {
   "cell_type": "markdown",
   "metadata": {},
   "source": [
    "## 1.1 Quantum devices - experimental properties<a id='exp'></a>\n",
    "\n",
    "#### [Basis Gates](https://qiskit.org/documentation/apidoc/transpiler.html)\n",
    "\n",
    "Although IBM's interface allows the user to program a quantum algorithm using a broad set of single and multi-qubit gates, these are compiled into a smaller set of compiler instruction:"
   ]
  },
  {
   "cell_type": "code",
   "execution_count": 6,
   "metadata": {},
   "outputs": [
    {
     "data": {
      "text/plain": [
       "['id', 'rz', 'sx', 'x', 'cx', 'reset']"
      ]
     },
     "execution_count": 6,
     "metadata": {},
     "output_type": "execute_result"
    }
   ],
   "source": [
    "backend.configuration().basis_gates"
   ]
  },
  {
   "cell_type": "markdown",
   "metadata": {},
   "source": [
    "#### [Qubit map](https://qiskit.org/documentation/apidoc/transpiler.html)\n",
    "\n",
    "Besides the restriction regarding the available gates, there are further physical constraints given by the physical architecture of the chip. In fact, CNOT gates can be directly applied only to qubits that are connected."
   ]
  },
  {
   "cell_type": "code",
   "execution_count": 7,
   "metadata": {},
   "outputs": [
    {
     "data": {
      "image/png": "[encoded data removed]",
      "text/plain": [
       "<Figure size 360x360 with 1 Axes>"
      ]
     },
     "execution_count": 7,
     "metadata": {},
     "output_type": "execute_result"
    }
   ],
   "source": [
    "plot_gate_map(backend)"
   ]
  },
  {
   "cell_type": "markdown",
   "metadata": {},
   "source": [
    "There are ways to circumvent the chip's architecture limitations (for example, by using SWAP operations to allow for a CNOT gate between otherwise physically uncoupled qubits). \n",
    "\n",
    "The study and development of efficient mapping algorithms between logical (software) and physical qubits, for a given quantum program, has only recently started receiving serious attention from the quantum information community. **As the size and complexity of quantum processor chips increase, efficient mapping algorithms will become crucial to successful demonstrations of the applications of quantum computers.**\n",
    "\n",
    "<img src=\"https://qiskit.org/documentation/_images/mapping.png\" width=\"800px\" align=\"center\">\n",
    "\n",
    "\n",
    "#### Coherence times\n",
    "\n",
    "Current quantum computations are “fragile”. A physical qubit does not hold its state indefinitely, but undergoes random bit-flips and loses its phase over time, i.e. undergoes decoherence. Decoherence is the loss of quantum \"properties\" of a quantum system. Quantum devices have associated decoherence times, which limit the number of quantum operations that can be performed before the results are \"drowned\" by noise. \n",
    "\n",
    "One can distinguish between two measures of decoherence:\n",
    "\n",
    "1. $T_1$ is the \"longitudinal coherence time\" (also known as \"amplitude damping\"), and it measures loss of energy from the system.\n",
    "2. $T_2$ is the \"transverse coherence time\" (also known as \"phase damping\").\n"
   ]
  },
  {
   "cell_type": "markdown",
   "metadata": {},
   "source": [
    "<img src=\"https://qiskit.org/documentation/_images/tutorials_noise_2_relaxation_and_decoherence_8_1.png\" width=\"600\">\n",
    "<img src=\"https://qiskit.org/documentation/_images/tutorials_noise_2_relaxation_and_decoherence_13_0.png\" width=\"600\">"
   ]
  },
  {
   "cell_type": "markdown",
   "metadata": {},
   "source": [
    "<div class=\"alert alert-block alert-info\">\n",
    "    \n",
    "**How are coherence times determined experimentally?**\n",
    "\n",
    "&nbsp;\n",
    "\n",
    "One way to estimate $T_1$ is to initialize a qubit to the ground state $| 0 \\rangle$ (for example, apply an $X$ gate to turn it into $| 1 \\rangle$, and measure it in the computational basis after a time $t$. \n",
    "\n",
    "The probability of the qubit staying in the $| 1 \\rangle$ state is expected to follow an exponential decay curve $e^{-t/T_1}$. \n",
    "\n",
    "To experimentally determine $T_2$, one can initialise a qubit to the ground state $| 0 \\rangle$, apply an Hadamard transform $H$ to change it into $\\frac{| 0 \\rangle + | 1 \\rangle}{\\sqrt{2}}$ and wait for a time $t$ before applying another transform $H$ and measuring the qubit on the computational basis.\n",
    "\n",
    "You can try [Relaxation and Decoherence](https://qiskit.org/documentation/tutorials/noise/2_relaxation_and_decoherence.html).\n",
    "    \n",
    "**Note** T1 and T2 are not \"time from state x to state y\" but rather decay constants.\n",
    "                                                                                      \n",
    "</div>\n",
    "\n",
    "&nbsp;\n",
    "\n",
    "Information on a given `backend`, such as qubit configuration or noise properties, can be retrieved by calling on the instance \n",
    "properties."
   ]
  },
  {
   "cell_type": "code",
   "execution_count": 8,
   "metadata": {},
   "outputs": [
    {
     "data": {
      "text/plain": [
       "<qiskit.providers.models.backendstatus.BackendStatus at 0x7fa654118430>"
      ]
     },
     "execution_count": 8,
     "metadata": {},
     "output_type": "execute_result"
    }
   ],
   "source": [
    "# Check backend status\n",
    "backend.status()"
   ]
  },
  {
   "cell_type": "code",
   "execution_count": 9,
   "metadata": {},
   "outputs": [
    {
     "data": {
      "text/plain": [
       "{'backend_name': 'ibmq_belem',\n",
       " 'backend_version': '1.0.6',\n",
       " 'n_qubits': 5,\n",
       " 'basis_gates': ['id', 'rz', 'sx', 'x', 'cx', 'reset'],\n",
       " 'gates': [{'name': 'id',\n",
       "   'parameters': [],\n",
       "   'qasm_def': 'gate id q { U(0, 0, 0) q; }',\n",
       "   'coupling_map': [[0], [1], [2], [3], [4]]},\n",
       "  {'name': 'rz',\n",
       "   'parameters': ['theta'],\n",
       "   'qasm_def': 'gate rz(theta) q { U(0, 0, theta) q; }',\n",
       "   'coupling_map': [[0], [1], [2], [3], [4]]},\n",
       "  {'name': 'sx',\n",
       "   'parameters': [],\n",
       "   'qasm_def': 'gate sx q { U(pi/2, 3*pi/2, pi/2) q; }',\n",
       "   'coupling_map': [[0], [1], [2], [3], [4]]},\n",
       "  {'name': 'x',\n",
       "   'parameters': [],\n",
       "   'qasm_def': 'gate x q { U(pi, 0, pi) q; }',\n",
       "   'coupling_map': [[0], [1], [2], [3], [4]]},\n",
       "  {'name': 'cx',\n",
       "   'parameters': [],\n",
       "   'qasm_def': 'gate cx q0, q1 { CX q0, q1; }',\n",
       "   'coupling_map': [[0, 1],\n",
       "    [1, 0],\n",
       "    [1, 2],\n",
       "    [1, 3],\n",
       "    [2, 1],\n",
       "    [3, 1],\n",
       "    [3, 4],\n",
       "    [4, 3]]},\n",
       "  {'name': 'reset', 'parameters': None, 'qasm_def': None}],\n",
       " 'local': False,\n",
       " 'simulator': False,\n",
       " 'conditional': False,\n",
       " 'open_pulse': False,\n",
       " 'memory': True,\n",
       " 'max_shots': 8192,\n",
       " 'coupling_map': [[0, 1],\n",
       "  [1, 0],\n",
       "  [1, 2],\n",
       "  [1, 3],\n",
       "  [2, 1],\n",
       "  [3, 1],\n",
       "  [3, 4],\n",
       "  [4, 3]],\n",
       " 'dynamic_reprate_enabled': True,\n",
       " 'supported_instructions': ['delay',\n",
       "  'measure',\n",
       "  'x',\n",
       "  'shiftf',\n",
       "  'id',\n",
       "  'reset',\n",
       "  'play',\n",
       "  'setf',\n",
       "  'acquire',\n",
       "  'u3',\n",
       "  'u2',\n",
       "  'u1',\n",
       "  'cx',\n",
       "  'rz',\n",
       "  'sx'],\n",
       " 'rep_delay_range': [0.0, 500.0],\n",
       " 'default_rep_delay': 250.0,\n",
       " 'max_experiments': 75,\n",
       " 'sample_name': 'family: Falcon, revision: 4, segment: T',\n",
       " 'n_registers': 1,\n",
       " 'credits_required': True,\n",
       " 'online_date': datetime.datetime(2021, 1, 8, 5, 0, tzinfo=tzutc()),\n",
       " 'description': '5 qubit device Belem',\n",
       " 'acquisition_latency': [],\n",
       " 'allow_q_object': True,\n",
       " 'channels': {'acquire0': {'operates': {'qubits': [0]},\n",
       "   'purpose': 'acquire',\n",
       "   'type': 'acquire'},\n",
       "  'acquire1': {'operates': {'qubits': [1]},\n",
       "   'purpose': 'acquire',\n",
       "   'type': 'acquire'},\n",
       "  'acquire2': {'operates': {'qubits': [2]},\n",
       "   'purpose': 'acquire',\n",
       "   'type': 'acquire'},\n",
       "  'acquire3': {'operates': {'qubits': [3]},\n",
       "   'purpose': 'acquire',\n",
       "   'type': 'acquire'},\n",
       "  'acquire4': {'operates': {'qubits': [4]},\n",
       "   'purpose': 'acquire',\n",
       "   'type': 'acquire'},\n",
       "  'd0': {'operates': {'qubits': [0]}, 'purpose': 'drive', 'type': 'drive'},\n",
       "  'd1': {'operates': {'qubits': [1]}, 'purpose': 'drive', 'type': 'drive'},\n",
       "  'd2': {'operates': {'qubits': [2]}, 'purpose': 'drive', 'type': 'drive'},\n",
       "  'd3': {'operates': {'qubits': [3]}, 'purpose': 'drive', 'type': 'drive'},\n",
       "  'd4': {'operates': {'qubits': [4]}, 'purpose': 'drive', 'type': 'drive'},\n",
       "  'm0': {'operates': {'qubits': [0]}, 'purpose': 'measure', 'type': 'measure'},\n",
       "  'm1': {'operates': {'qubits': [1]}, 'purpose': 'measure', 'type': 'measure'},\n",
       "  'm2': {'operates': {'qubits': [2]}, 'purpose': 'measure', 'type': 'measure'},\n",
       "  'm3': {'operates': {'qubits': [3]}, 'purpose': 'measure', 'type': 'measure'},\n",
       "  'm4': {'operates': {'qubits': [4]}, 'purpose': 'measure', 'type': 'measure'},\n",
       "  'u0': {'operates': {'qubits': [0, 1]},\n",
       "   'purpose': 'cross-resonance',\n",
       "   'type': 'control'},\n",
       "  'u1': {'operates': {'qubits': [1, 0]},\n",
       "   'purpose': 'cross-resonance',\n",
       "   'type': 'control'},\n",
       "  'u2': {'operates': {'qubits': [1, 2]},\n",
       "   'purpose': 'cross-resonance',\n",
       "   'type': 'control'},\n",
       "  'u3': {'operates': {'qubits': [1, 3]},\n",
       "   'purpose': 'cross-resonance',\n",
       "   'type': 'control'},\n",
       "  'u4': {'operates': {'qubits': [2, 1]},\n",
       "   'purpose': 'cross-resonance',\n",
       "   'type': 'control'},\n",
       "  'u5': {'operates': {'qubits': [3, 1]},\n",
       "   'purpose': 'cross-resonance',\n",
       "   'type': 'control'},\n",
       "  'u6': {'operates': {'qubits': [3, 4]},\n",
       "   'purpose': 'cross-resonance',\n",
       "   'type': 'control'},\n",
       "  'u7': {'operates': {'qubits': [4, 3]},\n",
       "   'purpose': 'cross-resonance',\n",
       "   'type': 'control'}},\n",
       " 'conditional_latency': [],\n",
       " 'discriminators': ['hw_centroid',\n",
       "  'linear_discriminator',\n",
       "  'quadratic_discriminator'],\n",
       " 'dt': 2.222222222222222e-19,\n",
       " 'dtm': 2.222222222222222e-19,\n",
       " 'hamiltonian': {'description': 'Qubits are modeled as Duffing oscillators. In this case, the system includes higher energy states, i.e. not just |0> and |1>. The Pauli operators are generalized via the following set of transformations:\\n\\n$(\\\\mathbb{I}-\\\\sigma_{i}^z)/2 \\\\rightarrow O_i \\\\equiv b^\\\\dagger_{i} b_{i}$,\\n\\n$\\\\sigma_{+} \\\\rightarrow b^\\\\dagger$,\\n\\n$\\\\sigma_{-} \\\\rightarrow b$,\\n\\n$\\\\sigma_{i}^X \\\\rightarrow b^\\\\dagger_{i} + b_{i}$.\\n\\nQubits are coupled through resonator buses. The provided Hamiltonian has been projected into the zero excitation subspace of the resonator buses leading to an effective qubit-qubit flip-flop interaction. The qubit resonance frequencies in the Hamiltonian are the cavity dressed frequencies and not exactly what is returned by the backend defaults, which also includes the dressing due to the qubit-qubit interactions.\\n\\nQuantities are returned in angular frequencies, with units 2*pi*GHz.\\n\\nWARNING: Currently not all system Hamiltonian information is available to the public, missing values have been replaced with 0.\\n',\n",
       "  'h_latex': '\\\\begin{align} \\\\mathcal{H}/\\\\hbar = & \\\\sum_{i=0}^{4}\\\\left(\\\\frac{\\\\omega_{q,i}}{2}(\\\\mathbb{I}-\\\\sigma_i^{z})+\\\\frac{\\\\Delta_{i}}{2}(O_i^2-O_i)+\\\\Omega_{d,i}D_i(t)\\\\sigma_i^{X}\\\\right) \\\\\\\\ & + J_{0,1}(\\\\sigma_{0}^{+}\\\\sigma_{1}^{-}+\\\\sigma_{0}^{-}\\\\sigma_{1}^{+}) + J_{1,3}(\\\\sigma_{1}^{+}\\\\sigma_{3}^{-}+\\\\sigma_{1}^{-}\\\\sigma_{3}^{+}) + J_{3,4}(\\\\sigma_{3}^{+}\\\\sigma_{4}^{-}+\\\\sigma_{3}^{-}\\\\sigma_{4}^{+}) + J_{1,2}(\\\\sigma_{1}^{+}\\\\sigma_{2}^{-}+\\\\sigma_{1}^{-}\\\\sigma_{2}^{+}) \\\\\\\\ & + \\\\Omega_{d,0}(U_{0}^{(0,1)}(t))\\\\sigma_{0}^{X} + \\\\Omega_{d,1}(U_{1}^{(1,0)}(t)+U_{3}^{(1,3)}(t)+U_{2}^{(1,2)}(t))\\\\sigma_{1}^{X} \\\\\\\\ & + \\\\Omega_{d,2}(U_{4}^{(2,1)}(t))\\\\sigma_{2}^{X} + \\\\Omega_{d,3}(U_{5}^{(3,1)}(t)+U_{6}^{(3,4)}(t))\\\\sigma_{3}^{X} \\\\\\\\ & + \\\\Omega_{d,4}(U_{7}^{(4,3)}(t))\\\\sigma_{4}^{X} \\\\\\\\ \\\\end{align}',\n",
       "  'h_str': ['_SUM[i,0,4,wq{i}/2*(I{i}-Z{i})]',\n",
       "   '_SUM[i,0,4,delta{i}/2*O{i}*O{i}]',\n",
       "   '_SUM[i,0,4,-delta{i}/2*O{i}]',\n",
       "   '_SUM[i,0,4,omegad{i}*X{i}||D{i}]',\n",
       "   'jq0q1*Sp0*Sm1',\n",
       "   'jq0q1*Sm0*Sp1',\n",
       "   'jq1q3*Sp1*Sm3',\n",
       "   'jq1q3*Sm1*Sp3',\n",
       "   'jq3q4*Sp3*Sm4',\n",
       "   'jq3q4*Sm3*Sp4',\n",
       "   'jq1q2*Sp1*Sm2',\n",
       "   'jq1q2*Sm1*Sp2',\n",
       "   'omegad1*X0||U0',\n",
       "   'omegad0*X1||U1',\n",
       "   'omegad3*X1||U3',\n",
       "   'omegad2*X1||U2',\n",
       "   'omegad1*X2||U4',\n",
       "   'omegad1*X3||U5',\n",
       "   'omegad4*X3||U6',\n",
       "   'omegad3*X4||U7'],\n",
       "  'osc': {},\n",
       "  'qub': {'0': 3, '1': 3, '2': 3, '3': 3, '4': 3},\n",
       "  'vars': {'delta0': -2.1119231275656283,\n",
       "   'delta1': -1.989081364755034,\n",
       "   'delta2': -2.0773937776320905,\n",
       "   'delta3': -2.096945401946966,\n",
       "   'delta4': -2.0819029355928373,\n",
       "   'jq0q1': 0.011772262300160973,\n",
       "   'jq1q2': 0.012605700949390706,\n",
       "   'jq1q3': 0.012591488659137172,\n",
       "   'jq3q4': 0.01051661912410011,\n",
       "   'omegad0': 0.8030327140927167,\n",
       "   'omegad1': 0.7767841515242753,\n",
       "   'omegad2': 2.005355946122796,\n",
       "   'omegad3': 0.7756686717032941,\n",
       "   'omegad4': 0.6447248984101994,\n",
       "   'wq0': 31.982699146274843,\n",
       "   'wq1': 32.95730917694658,\n",
       "   'wq2': 33.684018303045725,\n",
       "   'wq3': 32.48921556380359,\n",
       "   'wq4': 33.03886613846852}},\n",
       " 'meas_kernels': ['hw_boxcar'],\n",
       " 'meas_levels': [1, 2],\n",
       " 'meas_lo_range': [[6.801661824e+18, 7.801661824e+18],\n",
       "  [6.893428047e+18, 7.893428047e+18],\n",
       "  [6.860214726e+18, 7.860214726e+18],\n",
       "  [6.803382327e+18, 7.803382327e+18],\n",
       "  [6.926310916e+18, 7.926310916e+18]],\n",
       " 'meas_map': [[0, 1, 2, 3, 4]],\n",
       " 'multi_meas_enabled': True,\n",
       " 'n_uchannels': 8,\n",
       " 'parametric_pulses': ['gaussian', 'gaussian_square', 'drag', 'constant'],\n",
       " 'processor_type': {'family': 'Falcon', 'revision': 4, 'segment': 'T'},\n",
       " 'quantum_volume': 16,\n",
       " 'qubit_channel_mapping': [['m0', 'u0', 'd0', 'u1'],\n",
       "  ['u0', 'u5', 'm1', 'u4', 'd1', 'u2', 'u1', 'u3'],\n",
       "  ['u2', 'u4', 'm2', 'd2'],\n",
       "  ['u5', 'u6', 'u7', 'd3', 'u3', 'm3'],\n",
       "  ['d4', 'u7', 'u6', 'm4']],\n",
       " 'qubit_lo_range': [[4.590204662550582e+18, 5.590204662550582e+18],\n",
       "  [4.745318666518932e+18, 5.745318666518932e+18],\n",
       "  [4.860978016127604e+18, 5.860978016127604e+18],\n",
       "  [4.67081925415748e+18, 5.67081925415748e+18],\n",
       "  [4.758298860088705e+18, 5.758298860088705e+18]],\n",
       " 'rep_times': [0.001],\n",
       " 'u_channel_lo': [[{'q': 1, 'scale': (1+0j)}],\n",
       "  [{'q': 0, 'scale': (1+0j)}],\n",
       "  [{'q': 2, 'scale': (1+0j)}],\n",
       "  [{'q': 3, 'scale': (1+0j)}],\n",
       "  [{'q': 1, 'scale': (1+0j)}],\n",
       "  [{'q': 1, 'scale': (1+0j)}],\n",
       "  [{'q': 4, 'scale': (1+0j)}],\n",
       "  [{'q': 3, 'scale': (1+0j)}]],\n",
       " 'uchannels_enabled': True,\n",
       " 'url': 'None',\n",
       " 'allow_object_storage': True}"
      ]
     },
     "execution_count": 9,
     "metadata": {},
     "output_type": "execute_result"
    }
   ],
   "source": [
    "# Check configuration\n",
    "config = backend.configuration()\n",
    "\n",
    "# to_dict() displays configuration in dict form - easier to read\n",
    "config.to_dict()"
   ]
  },
  {
   "cell_type": "code",
   "execution_count": 10,
   "metadata": {},
   "outputs": [
    {
     "data": {
      "text/plain": [
       "{'backend_name': 'ibmq_belem',\n",
       " 'backend_version': '1.0.6',\n",
       " 'last_update_date': datetime.datetime(2021, 4, 9, 6, 47, 4, tzinfo=tzlocal()),\n",
       " 'qubits': [[{'date': datetime.datetime(2021, 4, 9, 6, 11, 47, tzinfo=tzlocal()),\n",
       "    'name': 'T1',\n",
       "    'unit': 'us',\n",
       "    'value': 70.83732340347568},\n",
       "   {'date': datetime.datetime(2021, 4, 9, 6, 12, 54, tzinfo=tzlocal()),\n",
       "    'name': 'T2',\n",
       "    'unit': 'us',\n",
       "    'value': 105.7287590556014},\n",
       "   {'date': datetime.datetime(2021, 4, 9, 6, 47, 4, tzinfo=tzlocal()),\n",
       "    'name': 'frequency',\n",
       "    'unit': 'GHz',\n",
       "    'value': 5.090204662550582},\n",
       "   {'date': datetime.datetime(2021, 4, 9, 6, 47, 4, tzinfo=tzlocal()),\n",
       "    'name': 'anharmonicity',\n",
       "    'unit': 'GHz',\n",
       "    'value': -0.33612300518216515},\n",
       "   {'date': datetime.datetime(2021, 4, 9, 6, 11, 5, tzinfo=tzlocal()),\n",
       "    'name': 'readout_error',\n",
       "    'unit': '',\n",
       "    'value': 0.038899999999999935},\n",
       "   {'date': datetime.datetime(2021, 4, 9, 6, 11, 5, tzinfo=tzlocal()),\n",
       "    'name': 'prob_meas0_prep1',\n",
       "    'unit': '',\n",
       "    'value': 0.059599999999999986},\n",
       "   {'date': datetime.datetime(2021, 4, 9, 6, 11, 5, tzinfo=tzlocal()),\n",
       "    'name': 'prob_meas1_prep0',\n",
       "    'unit': '',\n",
       "    'value': 0.0182},\n",
       "   {'date': datetime.datetime(2021, 4, 9, 6, 11, 5, tzinfo=tzlocal()),\n",
       "    'name': 'readout_length',\n",
       "    'unit': 'ns',\n",
       "    'value': 5351.11111111111}],\n",
       "  [{'date': datetime.datetime(2021, 4, 9, 6, 11, 47, tzinfo=tzlocal()),\n",
       "    'name': 'T1',\n",
       "    'unit': 'us',\n",
       "    'value': 66.97728267612806},\n",
       "   {'date': datetime.datetime(2021, 4, 9, 6, 14, 12, tzinfo=tzlocal()),\n",
       "    'name': 'T2',\n",
       "    'unit': 'us',\n",
       "    'value': 100.05736557822483},\n",
       "   {'date': datetime.datetime(2021, 4, 9, 6, 47, 4, tzinfo=tzlocal()),\n",
       "    'name': 'frequency',\n",
       "    'unit': 'GHz',\n",
       "    'value': 5.245318666518933},\n",
       "   {'date': datetime.datetime(2021, 4, 9, 6, 47, 4, tzinfo=tzlocal()),\n",
       "    'name': 'anharmonicity',\n",
       "    'unit': 'GHz',\n",
       "    'value': -0.316572131412737},\n",
       "   {'date': datetime.datetime(2021, 4, 9, 6, 11, 5, tzinfo=tzlocal()),\n",
       "    'name': 'readout_error',\n",
       "    'unit': '',\n",
       "    'value': 0.015700000000000047},\n",
       "   {'date': datetime.datetime(2021, 4, 9, 6, 11, 5, tzinfo=tzlocal()),\n",
       "    'name': 'prob_meas0_prep1',\n",
       "    'unit': '',\n",
       "    'value': 0.0252},\n",
       "   {'date': datetime.datetime(2021, 4, 9, 6, 11, 5, tzinfo=tzlocal()),\n",
       "    'name': 'prob_meas1_prep0',\n",
       "    'unit': '',\n",
       "    'value': 0.006199999999999983},\n",
       "   {'date': datetime.datetime(2021, 4, 9, 6, 11, 5, tzinfo=tzlocal()),\n",
       "    'name': 'readout_length',\n",
       "    'unit': 'ns',\n",
       "    'value': 5351.11111111111}],\n",
       "  [{'date': datetime.datetime(2021, 4, 9, 6, 11, 47, tzinfo=tzlocal()),\n",
       "    'name': 'T1',\n",
       "    'unit': 'us',\n",
       "    'value': 79.1073230114328},\n",
       "   {'date': datetime.datetime(2021, 4, 9, 6, 12, 54, tzinfo=tzlocal()),\n",
       "    'name': 'T2',\n",
       "    'unit': 'us',\n",
       "    'value': 72.47727623981875},\n",
       "   {'date': datetime.datetime(2021, 4, 9, 6, 47, 4, tzinfo=tzlocal()),\n",
       "    'name': 'frequency',\n",
       "    'unit': 'GHz',\n",
       "    'value': 5.3609780161276035},\n",
       "   {'date': datetime.datetime(2021, 4, 9, 6, 47, 4, tzinfo=tzlocal()),\n",
       "    'name': 'anharmonicity',\n",
       "    'unit': 'GHz',\n",
       "    'value': -0.3306274884584928},\n",
       "   {'date': datetime.datetime(2021, 4, 9, 6, 11, 5, tzinfo=tzlocal()),\n",
       "    'name': 'readout_error',\n",
       "    'unit': '',\n",
       "    'value': 0.06130000000000002},\n",
       "   {'date': datetime.datetime(2021, 4, 9, 6, 11, 5, tzinfo=tzlocal()),\n",
       "    'name': 'prob_meas0_prep1',\n",
       "    'unit': '',\n",
       "    'value': 0.1018},\n",
       "   {'date': datetime.datetime(2021, 4, 9, 6, 11, 5, tzinfo=tzlocal()),\n",
       "    'name': 'prob_meas1_prep0',\n",
       "    'unit': '',\n",
       "    'value': 0.0208},\n",
       "   {'date': datetime.datetime(2021, 4, 9, 6, 11, 5, tzinfo=tzlocal()),\n",
       "    'name': 'readout_length',\n",
       "    'unit': 'ns',\n",
       "    'value': 5351.11111111111}],\n",
       "  [{'date': datetime.datetime(2021, 4, 9, 6, 11, 47, tzinfo=tzlocal()),\n",
       "    'name': 'T1',\n",
       "    'unit': 'us',\n",
       "    'value': 57.048655992734965},\n",
       "   {'date': datetime.datetime(2021, 4, 9, 6, 12, 54, tzinfo=tzlocal()),\n",
       "    'name': 'T2',\n",
       "    'unit': 'us',\n",
       "    'value': 91.99042022159358},\n",
       "   {'date': datetime.datetime(2021, 4, 9, 6, 47, 4, tzinfo=tzlocal()),\n",
       "    'name': 'frequency',\n",
       "    'unit': 'GHz',\n",
       "    'value': 5.170819254157481},\n",
       "   {'date': datetime.datetime(2021, 4, 9, 6, 47, 4, tzinfo=tzlocal()),\n",
       "    'name': 'anharmonicity',\n",
       "    'unit': 'GHz',\n",
       "    'value': -0.33373922611368106},\n",
       "   {'date': datetime.datetime(2021, 4, 9, 6, 11, 5, tzinfo=tzlocal()),\n",
       "    'name': 'readout_error',\n",
       "    'unit': '',\n",
       "    'value': 0.01869999999999994},\n",
       "   {'date': datetime.datetime(2021, 4, 9, 6, 11, 5, tzinfo=tzlocal()),\n",
       "    'name': 'prob_meas0_prep1',\n",
       "    'unit': '',\n",
       "    'value': 0.01980000000000004},\n",
       "   {'date': datetime.datetime(2021, 4, 9, 6, 11, 5, tzinfo=tzlocal()),\n",
       "    'name': 'prob_meas1_prep0',\n",
       "    'unit': '',\n",
       "    'value': 0.0176},\n",
       "   {'date': datetime.datetime(2021, 4, 9, 6, 11, 5, tzinfo=tzlocal()),\n",
       "    'name': 'readout_length',\n",
       "    'unit': 'ns',\n",
       "    'value': 5351.11111111111}],\n",
       "  [{'date': datetime.datetime(2021, 4, 9, 6, 11, 47, tzinfo=tzlocal()),\n",
       "    'name': 'T1',\n",
       "    'unit': 'us',\n",
       "    'value': 101.9607489544716},\n",
       "   {'date': datetime.datetime(2021, 4, 9, 6, 14, 12, tzinfo=tzlocal()),\n",
       "    'name': 'T2',\n",
       "    'unit': 'us',\n",
       "    'value': 108.29503456632648},\n",
       "   {'date': datetime.datetime(2021, 4, 9, 6, 47, 4, tzinfo=tzlocal()),\n",
       "    'name': 'frequency',\n",
       "    'unit': 'GHz',\n",
       "    'value': 5.258298860088705},\n",
       "   {'date': datetime.datetime(2021, 4, 9, 6, 47, 4, tzinfo=tzlocal()),\n",
       "    'name': 'anharmonicity',\n",
       "    'unit': 'GHz',\n",
       "    'value': -0.3313451432371279},\n",
       "   {'date': datetime.datetime(2021, 4, 9, 6, 11, 5, tzinfo=tzlocal()),\n",
       "    'name': 'readout_error',\n",
       "    'unit': '',\n",
       "    'value': 0.02210000000000001},\n",
       "   {'date': datetime.datetime(2021, 4, 9, 6, 11, 5, tzinfo=tzlocal()),\n",
       "    'name': 'prob_meas0_prep1',\n",
       "    'unit': '',\n",
       "    'value': 0.0252},\n",
       "   {'date': datetime.datetime(2021, 4, 9, 6, 11, 5, tzinfo=tzlocal()),\n",
       "    'name': 'prob_meas1_prep0',\n",
       "    'unit': '',\n",
       "    'value': 0.019},\n",
       "   {'date': datetime.datetime(2021, 4, 9, 6, 11, 5, tzinfo=tzlocal()),\n",
       "    'name': 'readout_length',\n",
       "    'unit': 'ns',\n",
       "    'value': 5351.11111111111}]],\n",
       " 'gates': [{'qubits': [0],\n",
       "   'gate': 'id',\n",
       "   'parameters': [{'date': datetime.datetime(2021, 4, 9, 6, 15, 11, tzinfo=tzlocal()),\n",
       "     'name': 'gate_error',\n",
       "     'unit': '',\n",
       "     'value': 0.0001936645045970937},\n",
       "    {'date': datetime.datetime(2021, 4, 9, 6, 47, 4, tzinfo=tzlocal()),\n",
       "     'name': 'gate_length',\n",
       "     'unit': 'ns',\n",
       "     'value': 35.55555555555556}],\n",
       "   'name': 'id0'},\n",
       "  {'qubits': [1],\n",
       "   'gate': 'id',\n",
       "   'parameters': [{'date': datetime.datetime(2021, 4, 9, 6, 17, 30, tzinfo=tzlocal()),\n",
       "     'name': 'gate_error',\n",
       "     'unit': '',\n",
       "     'value': 0.0002492262243509568},\n",
       "    {'date': datetime.datetime(2021, 4, 9, 6, 47, 4, tzinfo=tzlocal()),\n",
       "     'name': 'gate_length',\n",
       "     'unit': 'ns',\n",
       "     'value': 35.55555555555556}],\n",
       "   'name': 'id1'},\n",
       "  {'qubits': [2],\n",
       "   'gate': 'id',\n",
       "   'parameters': [{'date': datetime.datetime(2021, 4, 9, 6, 15, 11, tzinfo=tzlocal()),\n",
       "     'name': 'gate_error',\n",
       "     'unit': '',\n",
       "     'value': 0.0004562134297228689},\n",
       "    {'date': datetime.datetime(2021, 4, 9, 6, 47, 4, tzinfo=tzlocal()),\n",
       "     'name': 'gate_length',\n",
       "     'unit': 'ns',\n",
       "     'value': 35.55555555555556}],\n",
       "   'name': 'id2'},\n",
       "  {'qubits': [3],\n",
       "   'gate': 'id',\n",
       "   'parameters': [{'date': datetime.datetime(2021, 4, 9, 6, 15, 11, tzinfo=tzlocal()),\n",
       "     'name': 'gate_error',\n",
       "     'unit': '',\n",
       "     'value': 0.00029138328625884783},\n",
       "    {'date': datetime.datetime(2021, 4, 9, 6, 47, 4, tzinfo=tzlocal()),\n",
       "     'name': 'gate_length',\n",
       "     'unit': 'ns',\n",
       "     'value': 35.55555555555556}],\n",
       "   'name': 'id3'},\n",
       "  {'qubits': [4],\n",
       "   'gate': 'id',\n",
       "   'parameters': [{'date': datetime.datetime(2021, 4, 9, 6, 17, 30, tzinfo=tzlocal()),\n",
       "     'name': 'gate_error',\n",
       "     'unit': '',\n",
       "     'value': 0.00021972464968966806},\n",
       "    {'date': datetime.datetime(2021, 4, 9, 6, 47, 4, tzinfo=tzlocal()),\n",
       "     'name': 'gate_length',\n",
       "     'unit': 'ns',\n",
       "     'value': 35.55555555555556}],\n",
       "   'name': 'id4'},\n",
       "  {'qubits': [0],\n",
       "   'gate': 'rz',\n",
       "   'parameters': [{'date': datetime.datetime(2021, 4, 9, 6, 47, 4, tzinfo=tzlocal()),\n",
       "     'name': 'gate_error',\n",
       "     'unit': '',\n",
       "     'value': 0},\n",
       "    {'date': datetime.datetime(2021, 4, 9, 6, 47, 4, tzinfo=tzlocal()),\n",
       "     'name': 'gate_length',\n",
       "     'unit': 'ns',\n",
       "     'value': 0}],\n",
       "   'name': 'rz0'},\n",
       "  {'qubits': [1],\n",
       "   'gate': 'rz',\n",
       "   'parameters': [{'date': datetime.datetime(2021, 4, 9, 6, 47, 4, tzinfo=tzlocal()),\n",
       "     'name': 'gate_error',\n",
       "     'unit': '',\n",
       "     'value': 0},\n",
       "    {'date': datetime.datetime(2021, 4, 9, 6, 47, 4, tzinfo=tzlocal()),\n",
       "     'name': 'gate_length',\n",
       "     'unit': 'ns',\n",
       "     'value': 0}],\n",
       "   'name': 'rz1'},\n",
       "  {'qubits': [2],\n",
       "   'gate': 'rz',\n",
       "   'parameters': [{'date': datetime.datetime(2021, 4, 9, 6, 47, 4, tzinfo=tzlocal()),\n",
       "     'name': 'gate_error',\n",
       "     'unit': '',\n",
       "     'value': 0},\n",
       "    {'date': datetime.datetime(2021, 4, 9, 6, 47, 4, tzinfo=tzlocal()),\n",
       "     'name': 'gate_length',\n",
       "     'unit': 'ns',\n",
       "     'value': 0}],\n",
       "   'name': 'rz2'},\n",
       "  {'qubits': [3],\n",
       "   'gate': 'rz',\n",
       "   'parameters': [{'date': datetime.datetime(2021, 4, 9, 6, 47, 4, tzinfo=tzlocal()),\n",
       "     'name': 'gate_error',\n",
       "     'unit': '',\n",
       "     'value': 0},\n",
       "    {'date': datetime.datetime(2021, 4, 9, 6, 47, 4, tzinfo=tzlocal()),\n",
       "     'name': 'gate_length',\n",
       "     'unit': 'ns',\n",
       "     'value': 0}],\n",
       "   'name': 'rz3'},\n",
       "  {'qubits': [4],\n",
       "   'gate': 'rz',\n",
       "   'parameters': [{'date': datetime.datetime(2021, 4, 9, 6, 47, 4, tzinfo=tzlocal()),\n",
       "     'name': 'gate_error',\n",
       "     'unit': '',\n",
       "     'value': 0},\n",
       "    {'date': datetime.datetime(2021, 4, 9, 6, 47, 4, tzinfo=tzlocal()),\n",
       "     'name': 'gate_length',\n",
       "     'unit': 'ns',\n",
       "     'value': 0}],\n",
       "   'name': 'rz4'},\n",
       "  {'qubits': [0],\n",
       "   'gate': 'sx',\n",
       "   'parameters': [{'date': datetime.datetime(2021, 4, 9, 6, 15, 11, tzinfo=tzlocal()),\n",
       "     'name': 'gate_error',\n",
       "     'unit': '',\n",
       "     'value': 0.0001936645045970937},\n",
       "    {'date': datetime.datetime(2021, 4, 9, 6, 47, 4, tzinfo=tzlocal()),\n",
       "     'name': 'gate_length',\n",
       "     'unit': 'ns',\n",
       "     'value': 35.55555555555556}],\n",
       "   'name': 'sx0'},\n",
       "  {'qubits': [1],\n",
       "   'gate': 'sx',\n",
       "   'parameters': [{'date': datetime.datetime(2021, 4, 9, 6, 17, 30, tzinfo=tzlocal()),\n",
       "     'name': 'gate_error',\n",
       "     'unit': '',\n",
       "     'value': 0.0002492262243509568},\n",
       "    {'date': datetime.datetime(2021, 4, 9, 6, 47, 4, tzinfo=tzlocal()),\n",
       "     'name': 'gate_length',\n",
       "     'unit': 'ns',\n",
       "     'value': 35.55555555555556}],\n",
       "   'name': 'sx1'},\n",
       "  {'qubits': [2],\n",
       "   'gate': 'sx',\n",
       "   'parameters': [{'date': datetime.datetime(2021, 4, 9, 6, 15, 11, tzinfo=tzlocal()),\n",
       "     'name': 'gate_error',\n",
       "     'unit': '',\n",
       "     'value': 0.0004562134297228689},\n",
       "    {'date': datetime.datetime(2021, 4, 9, 6, 47, 4, tzinfo=tzlocal()),\n",
       "     'name': 'gate_length',\n",
       "     'unit': 'ns',\n",
       "     'value': 35.55555555555556}],\n",
       "   'name': 'sx2'},\n",
       "  {'qubits': [3],\n",
       "   'gate': 'sx',\n",
       "   'parameters': [{'date': datetime.datetime(2021, 4, 9, 6, 15, 11, tzinfo=tzlocal()),\n",
       "     'name': 'gate_error',\n",
       "     'unit': '',\n",
       "     'value': 0.00029138328625884783},\n",
       "    {'date': datetime.datetime(2021, 4, 9, 6, 47, 4, tzinfo=tzlocal()),\n",
       "     'name': 'gate_length',\n",
       "     'unit': 'ns',\n",
       "     'value': 35.55555555555556}],\n",
       "   'name': 'sx3'},\n",
       "  {'qubits': [4],\n",
       "   'gate': 'sx',\n",
       "   'parameters': [{'date': datetime.datetime(2021, 4, 9, 6, 17, 30, tzinfo=tzlocal()),\n",
       "     'name': 'gate_error',\n",
       "     'unit': '',\n",
       "     'value': 0.00021972464968966806},\n",
       "    {'date': datetime.datetime(2021, 4, 9, 6, 47, 4, tzinfo=tzlocal()),\n",
       "     'name': 'gate_length',\n",
       "     'unit': 'ns',\n",
       "     'value': 35.55555555555556}],\n",
       "   'name': 'sx4'},\n",
       "  {'qubits': [0],\n",
       "   'gate': 'x',\n",
       "   'parameters': [{'date': datetime.datetime(2021, 4, 9, 6, 15, 11, tzinfo=tzlocal()),\n",
       "     'name': 'gate_error',\n",
       "     'unit': '',\n",
       "     'value': 0.0001936645045970937},\n",
       "    {'date': datetime.datetime(2021, 4, 9, 6, 47, 4, tzinfo=tzlocal()),\n",
       "     'name': 'gate_length',\n",
       "     'unit': 'ns',\n",
       "     'value': 35.55555555555556}],\n",
       "   'name': 'x0'},\n",
       "  {'qubits': [1],\n",
       "   'gate': 'x',\n",
       "   'parameters': [{'date': datetime.datetime(2021, 4, 9, 6, 17, 30, tzinfo=tzlocal()),\n",
       "     'name': 'gate_error',\n",
       "     'unit': '',\n",
       "     'value': 0.0002492262243509568},\n",
       "    {'date': datetime.datetime(2021, 4, 9, 6, 47, 4, tzinfo=tzlocal()),\n",
       "     'name': 'gate_length',\n",
       "     'unit': 'ns',\n",
       "     'value': 35.55555555555556}],\n",
       "   'name': 'x1'},\n",
       "  {'qubits': [2],\n",
       "   'gate': 'x',\n",
       "   'parameters': [{'date': datetime.datetime(2021, 4, 9, 6, 15, 11, tzinfo=tzlocal()),\n",
       "     'name': 'gate_error',\n",
       "     'unit': '',\n",
       "     'value': 0.0004562134297228689},\n",
       "    {'date': datetime.datetime(2021, 4, 9, 6, 47, 4, tzinfo=tzlocal()),\n",
       "     'name': 'gate_length',\n",
       "     'unit': 'ns',\n",
       "     'value': 35.55555555555556}],\n",
       "   'name': 'x2'},\n",
       "  {'qubits': [3],\n",
       "   'gate': 'x',\n",
       "   'parameters': [{'date': datetime.datetime(2021, 4, 9, 6, 15, 11, tzinfo=tzlocal()),\n",
       "     'name': 'gate_error',\n",
       "     'unit': '',\n",
       "     'value': 0.00029138328625884783},\n",
       "    {'date': datetime.datetime(2021, 4, 9, 6, 47, 4, tzinfo=tzlocal()),\n",
       "     'name': 'gate_length',\n",
       "     'unit': 'ns',\n",
       "     'value': 35.55555555555556}],\n",
       "   'name': 'x3'},\n",
       "  {'qubits': [4],\n",
       "   'gate': 'x',\n",
       "   'parameters': [{'date': datetime.datetime(2021, 4, 9, 6, 17, 30, tzinfo=tzlocal()),\n",
       "     'name': 'gate_error',\n",
       "     'unit': '',\n",
       "     'value': 0.00021972464968966806},\n",
       "    {'date': datetime.datetime(2021, 4, 9, 6, 47, 4, tzinfo=tzlocal()),\n",
       "     'name': 'gate_length',\n",
       "     'unit': 'ns',\n",
       "     'value': 35.55555555555556}],\n",
       "   'name': 'x4'},\n",
       "  {'qubits': [4, 3],\n",
       "   'gate': 'cx',\n",
       "   'parameters': [{'date': datetime.datetime(2021, 4, 9, 6, 47, 4, tzinfo=tzlocal()),\n",
       "     'name': 'gate_error',\n",
       "     'unit': '',\n",
       "     'value': 0.008713927991603587},\n",
       "    {'date': datetime.datetime(2021, 4, 6, 6, 47, 4, tzinfo=tzlocal()),\n",
       "     'name': 'gate_length',\n",
       "     'unit': 'ns',\n",
       "     'value': 554.6666666666666}],\n",
       "   'name': 'cx4_3'},\n",
       "  {'qubits': [3, 4],\n",
       "   'gate': 'cx',\n",
       "   'parameters': [{'date': datetime.datetime(2021, 4, 9, 6, 47, 4, tzinfo=tzlocal()),\n",
       "     'name': 'gate_error',\n",
       "     'unit': '',\n",
       "     'value': 0.008713927991603587},\n",
       "    {'date': datetime.datetime(2021, 4, 6, 6, 47, 4, tzinfo=tzlocal()),\n",
       "     'name': 'gate_length',\n",
       "     'unit': 'ns',\n",
       "     'value': 590.2222222222222}],\n",
       "   'name': 'cx3_4'},\n",
       "  {'qubits': [3, 1],\n",
       "   'gate': 'cx',\n",
       "   'parameters': [{'date': datetime.datetime(2021, 4, 9, 6, 41, 28, tzinfo=tzlocal()),\n",
       "     'name': 'gate_error',\n",
       "     'unit': '',\n",
       "     'value': 0.007585299956145097},\n",
       "    {'date': datetime.datetime(2021, 4, 6, 6, 47, 4, tzinfo=tzlocal()),\n",
       "     'name': 'gate_length',\n",
       "     'unit': 'ns',\n",
       "     'value': 398.2222222222222}],\n",
       "   'name': 'cx3_1'},\n",
       "  {'qubits': [1, 3],\n",
       "   'gate': 'cx',\n",
       "   'parameters': [{'date': datetime.datetime(2021, 4, 9, 6, 41, 28, tzinfo=tzlocal()),\n",
       "     'name': 'gate_error',\n",
       "     'unit': '',\n",
       "     'value': 0.007585299956145097},\n",
       "    {'date': datetime.datetime(2021, 4, 6, 6, 47, 4, tzinfo=tzlocal()),\n",
       "     'name': 'gate_length',\n",
       "     'unit': 'ns',\n",
       "     'value': 433.77777777777777}],\n",
       "   'name': 'cx1_3'},\n",
       "  {'qubits': [2, 1],\n",
       "   'gate': 'cx',\n",
       "   'parameters': [{'date': datetime.datetime(2021, 4, 9, 6, 31, 2, tzinfo=tzlocal()),\n",
       "     'name': 'gate_error',\n",
       "     'unit': '',\n",
       "     'value': 0.0073069197838349365},\n",
       "    {'date': datetime.datetime(2021, 4, 6, 6, 47, 4, tzinfo=tzlocal()),\n",
       "     'name': 'gate_length',\n",
       "     'unit': 'ns',\n",
       "     'value': 412.4444444444444}],\n",
       "   'name': 'cx2_1'},\n",
       "  {'qubits': [1, 2],\n",
       "   'gate': 'cx',\n",
       "   'parameters': [{'date': datetime.datetime(2021, 4, 9, 6, 31, 2, tzinfo=tzlocal()),\n",
       "     'name': 'gate_error',\n",
       "     'unit': '',\n",
       "     'value': 0.0073069197838349365},\n",
       "    {'date': datetime.datetime(2021, 4, 6, 6, 47, 4, tzinfo=tzlocal()),\n",
       "     'name': 'gate_length',\n",
       "     'unit': 'ns',\n",
       "     'value': 448}],\n",
       "   'name': 'cx1_2'},\n",
       "  {'qubits': [1, 0],\n",
       "   'gate': 'cx',\n",
       "   'parameters': [{'date': datetime.datetime(2021, 4, 9, 6, 22, 51, tzinfo=tzlocal()),\n",
       "     'name': 'gate_error',\n",
       "     'unit': '',\n",
       "     'value': 0.0129404629285933},\n",
       "    {'date': datetime.datetime(2021, 4, 6, 6, 47, 4, tzinfo=tzlocal()),\n",
       "     'name': 'gate_length',\n",
       "     'unit': 'ns',\n",
       "     'value': 775.1111111111111}],\n",
       "   'name': 'cx1_0'},\n",
       "  {'qubits': [0, 1],\n",
       "   'gate': 'cx',\n",
       "   'parameters': [{'date': datetime.datetime(2021, 4, 9, 6, 22, 51, tzinfo=tzlocal()),\n",
       "     'name': 'gate_error',\n",
       "     'unit': '',\n",
       "     'value': 0.0129404629285933},\n",
       "    {'date': datetime.datetime(2021, 4, 6, 6, 47, 4, tzinfo=tzlocal()),\n",
       "     'name': 'gate_length',\n",
       "     'unit': 'ns',\n",
       "     'value': 810.6666666666666}],\n",
       "   'name': 'cx0_1'},\n",
       "  {'qubits': [0],\n",
       "   'gate': 'reset',\n",
       "   'parameters': [{'date': datetime.datetime(2021, 4, 9, 6, 47, 4, tzinfo=tzlocal()),\n",
       "     'name': 'gate_length',\n",
       "     'unit': 'ns',\n",
       "     'value': 7342.222222222222}],\n",
       "   'name': 'reset0'},\n",
       "  {'qubits': [1],\n",
       "   'gate': 'reset',\n",
       "   'parameters': [{'date': datetime.datetime(2021, 4, 9, 6, 47, 4, tzinfo=tzlocal()),\n",
       "     'name': 'gate_length',\n",
       "     'unit': 'ns',\n",
       "     'value': 7342.222222222222}],\n",
       "   'name': 'reset1'},\n",
       "  {'qubits': [2],\n",
       "   'gate': 'reset',\n",
       "   'parameters': [{'date': datetime.datetime(2021, 4, 9, 6, 47, 4, tzinfo=tzlocal()),\n",
       "     'name': 'gate_length',\n",
       "     'unit': 'ns',\n",
       "     'value': 7342.222222222222}],\n",
       "   'name': 'reset2'},\n",
       "  {'qubits': [3],\n",
       "   'gate': 'reset',\n",
       "   'parameters': [{'date': datetime.datetime(2021, 4, 9, 6, 47, 4, tzinfo=tzlocal()),\n",
       "     'name': 'gate_length',\n",
       "     'unit': 'ns',\n",
       "     'value': 7342.222222222222}],\n",
       "   'name': 'reset3'},\n",
       "  {'qubits': [4],\n",
       "   'gate': 'reset',\n",
       "   'parameters': [{'date': datetime.datetime(2021, 4, 9, 6, 47, 4, tzinfo=tzlocal()),\n",
       "     'name': 'gate_length',\n",
       "     'unit': 'ns',\n",
       "     'value': 7342.222222222222}],\n",
       "   'name': 'reset4'}],\n",
       " 'general': [{'date': datetime.datetime(2021, 4, 9, 6, 47, 4, tzinfo=tzlocal()),\n",
       "   'name': 'jq_01',\n",
       "   'unit': 'GHz',\n",
       "   'value': 0.0018736137364449847},\n",
       "  {'date': datetime.datetime(2021, 4, 9, 6, 47, 4, tzinfo=tzlocal()),\n",
       "   'name': 'zz_01',\n",
       "   'unit': 'GHz',\n",
       "   'value': -5.778719017046504e-05},\n",
       "  {'date': datetime.datetime(2021, 4, 9, 6, 47, 4, tzinfo=tzlocal()),\n",
       "   'name': 'jq_13',\n",
       "   'unit': 'GHz',\n",
       "   'value': 0.0020039976609872224},\n",
       "  {'date': datetime.datetime(2021, 4, 9, 6, 47, 4, tzinfo=tzlocal()),\n",
       "   'name': 'zz_13',\n",
       "   'unit': 'GHz',\n",
       "   'value': -5.2854062688980254e-05},\n",
       "  {'date': datetime.datetime(2021, 4, 9, 6, 47, 4, tzinfo=tzlocal()),\n",
       "   'name': 'jq_34',\n",
       "   'unit': 'GHz',\n",
       "   'value': 0.0016737719182152912},\n",
       "  {'date': datetime.datetime(2021, 4, 9, 6, 47, 4, tzinfo=tzlocal()),\n",
       "   'name': 'zz_34',\n",
       "   'unit': 'GHz',\n",
       "   'value': -3.628419642815204e-05},\n",
       "  {'date': datetime.datetime(2021, 4, 9, 6, 47, 4, tzinfo=tzlocal()),\n",
       "   'name': 'jq_12',\n",
       "   'unit': 'GHz',\n",
       "   'value': 0.0020062596172337292},\n",
       "  {'date': datetime.datetime(2021, 4, 9, 6, 47, 4, tzinfo=tzlocal()),\n",
       "   'name': 'zz_12',\n",
       "   'unit': 'GHz',\n",
       "   'value': -5.607853601551941e-05}]}"
      ]
     },
     "execution_count": 10,
     "metadata": {},
     "output_type": "execute_result"
    }
   ],
   "source": [
    "properties = backend.properties()\n",
    "\n",
    "properties.to_dict()"
   ]
  },
  {
   "cell_type": "markdown",
   "metadata": {},
   "source": [
    "&nbsp;\n",
    "\n",
    "\n",
    "## 1.2 Interactive tools <a id='ipywid'></a>\n",
    "\n",
    "The large amount of information on different backends can better be visualized using the integrated interactive tools."
   ]
  },
  {
   "cell_type": "code",
   "execution_count": 11,
   "metadata": {},
   "outputs": [],
   "source": [
    "# NOTE: if interactive tools don't work,\n",
    "# you may need to install ipywidgets.\n",
    "# If so, execute the line below:\n",
    "\n",
    "# !pip install ipywidgets\n",
    "\n",
    "# Interactive tools\n",
    "import qiskit.tools.jupyter\n",
    "%matplotlib inline"
   ]
  },
  {
   "cell_type": "code",
   "execution_count": 12,
   "metadata": {},
   "outputs": [
    {
     "data": {
      "text/html": [
       "<h3>Version Information</h3><table><tr><th>Qiskit Software</th><th>Version</th></tr><tr><td>Qiskit</td><td>0.24.1</td></tr><tr><td>Terra</td><td>0.16.4</td></tr><tr><td>Aer</td><td>0.7.6</td></tr><tr><td>Ignis</td><td>0.5.2</td></tr><tr><td>Aqua</td><td>0.8.2</td></tr><tr><td>IBM Q Provider</td><td>0.12.2</td></tr><tr><th>System information</th></tr><tr><td>Python</td><td>3.8.0 (v3.8.0:fa919fdf25, Oct 14 2019, 10:23:27) \n",
       "[Clang 6.0 (clang-600.0.57)]</td></tr><tr><td>OS</td><td>Darwin</td></tr><tr><td>CPUs</td><td>4</td></tr><tr><td>Memory (Gb)</td><td>16.0</td></tr><tr><td colspan='2'>Fri Apr 09 10:32:30 2021 CEST</td></tr></table>"
      ],
      "text/plain": [
       "<IPython.core.display.HTML object>"
      ]
     },
     "metadata": {},
     "output_type": "display_data"
    }
   ],
   "source": [
    "%qiskit_version_table"
   ]
  },
  {
   "cell_type": "code",
   "execution_count": 13,
   "metadata": {},
   "outputs": [
    {
     "data": {
      "application/vnd.jupyter.widget-view+json": {
       "model_id": "5344e498a96347cca2baf3a0f0a38b1c",
       "version_major": 2,
       "version_minor": 0
      },
      "text/plain": [
       "VBox(children=(HTML(value=\"<h2 style ='color:#ffffff; background-color:#000000;padding-top: 1%; padding-bottom…"
      ]
     },
     "metadata": {},
     "output_type": "display_data"
    }
   ],
   "source": [
    "%qiskit_backend_overview"
   ]
  },
  {
   "cell_type": "markdown",
   "metadata": {},
   "source": [
    "After importing the tools, simply invoking a backend instance displays graphical information on the backend."
   ]
  },
  {
   "cell_type": "code",
   "execution_count": 14,
   "metadata": {},
   "outputs": [
    {
     "data": {
      "application/vnd.jupyter.widget-view+json": {
       "model_id": "d8ef4fff8bb14627a0d3804a8194c531",
       "version_major": 2,
       "version_minor": 0
      },
      "text/plain": [
       "VBox(children=(HTML(value=\"<h1 style='color:#ffffff;background-color:#000000;padding-top: 1%;padding-bottom: 1…"
      ]
     },
     "metadata": {},
     "output_type": "display_data"
    },
    {
     "data": {
      "text/plain": [
       "<IBMQBackend('ibmq_belem') from IBMQ(hub='ibm-q', group='open', project='main')>"
      ]
     },
     "execution_count": 14,
     "metadata": {},
     "output_type": "execute_result"
    }
   ],
   "source": [
    "backend"
   ]
  },
  {
   "cell_type": "markdown",
   "metadata": {},
   "source": [
    "&nbsp;\n",
    "\n",
    "\n",
    "## 1.3 Quantum half-adder, revisited <a id='qha'></a>\n",
    "\n",
    "&nbsp;\n",
    "\n",
    "\n",
    "Recall the quantum half-adder circuit from the previous class, which adds the states of $q_0$ and $q_1$, and outputs the *sum* S to $q_1$ and the *carry* C to an additional qubit $q_2$:\n",
    "\n",
    "&nbsp;\n",
    "\n",
    "| $q_0$ (input) = A | $q_1$ (input) = B | $q_1$ (output) = S  | $q_2$ (output) = C |\n",
    "|-----------------|-----------------|-------------------|------------------|\n",
    "|        0        |         0       |      0            |      0     |\n",
    "|        1        |         0       |      1            |      0     |\n",
    "|        0        |         1       |      1            |      0     |\n",
    "|        1        |         1       |      0            |      1     |\n",
    "\n",
    "\n",
    "&nbsp;\n",
    "\n",
    "\n",
    "We can now compare the results of the quantum half adder under ideal conditions (when using the simulator), vs. when executed on a physical quantum processor."
   ]
  },
  {
   "cell_type": "code",
   "execution_count": 15,
   "metadata": {},
   "outputs": [
    {
     "data": {
      "image/png": "[encoded data removed]",
      "text/plain": [
       "<Figure size 520.978x264.88 with 1 Axes>"
      ]
     },
     "execution_count": 15,
     "metadata": {},
     "output_type": "execute_result"
    }
   ],
   "source": [
    "# Create registers\n",
    "qr = QuantumRegister(3)\n",
    "cr = ClassicalRegister(3)\n",
    "\n",
    "# Quantum Circuit\n",
    "half_adder = QuantumCircuit(qr, cr)\n",
    "\n",
    "# We are adding q0 = |1> and q1 = |1>\n",
    "half_adder.x(qr[0])\n",
    "half_adder.x(qr[1])\n",
    "\n",
    "# Perform operation\n",
    "half_adder.ccx(qr[0], qr[1], qr[2])\n",
    "half_adder.cx(qr[0], qr[1])\n",
    "\n",
    "# Barriers make circuits prettier\n",
    "half_adder.barrier()\n",
    "\n",
    "# Measure\n",
    "half_adder.measure(qr, cr)\n",
    "\n",
    "# Draw\n",
    "half_adder.draw(output='mpl')"
   ]
  },
  {
   "cell_type": "markdown",
   "metadata": {},
   "source": [
    "Recall that under noiseless settings and deterministic inputs (since inputs are not in superposition), the output is deterministic: $q_0 = 1$, $q_1 = 0$ (sum) and $q_2 = 1$ (carry). We therefore expect the measured outcome to be `101`."
   ]
  },
  {
   "cell_type": "code",
   "execution_count": 16,
   "metadata": {},
   "outputs": [
    {
     "data": {
      "image/png": "[encoded data removed]",
      "text/plain": [
       "<Figure size 504x360 with 1 Axes>"
      ]
     },
     "execution_count": 16,
     "metadata": {},
     "output_type": "execute_result"
    }
   ],
   "source": [
    "sim_backend = Aer.get_backend(\"qasm_simulator\")\n",
    "\n",
    "shots = 1024\n",
    "job_half_adder_s = execute(half_adder, sim_backend, shots=shots)\n",
    "\n",
    "result_half_adder_s = job_half_adder_s.result()\n",
    "counts_half_adder_sim = result_half_adder_s.get_counts(half_adder)\n",
    "\n",
    "plot_histogram(counts_half_adder_sim)"
   ]
  },
  {
   "cell_type": "markdown",
   "metadata": {},
   "source": [
    "#### Visualizing circuit decompositions\n",
    "\n",
    "Before being executed on a physical backend, the circuit is decomposed. This decomposition can be visualized using the `transpile` function."
   ]
  },
  {
   "cell_type": "code",
   "execution_count": 17,
   "metadata": {},
   "outputs": [
    {
     "data": {
      "image/png": "[encoded data removed]",
      "text/plain": [
       "<Figure size 1684.19x385.28 with 1 Axes>"
      ]
     },
     "execution_count": 17,
     "metadata": {},
     "output_type": "execute_result"
    }
   ],
   "source": [
    "# To visualize the decomposition, we have to specify the backend\n",
    "# get_backend() to define backend\n",
    "physical_backend = provider.get_backend('ibmq_belem')\n",
    "\n",
    "                       \n",
    "# With transpile we can see exactly what is running on the backend\n",
    "qc_real = transpile(half_adder, backend=physical_backend)\n",
    "\n",
    "qc_real.draw(output='mpl')"
   ]
  },
  {
   "cell_type": "markdown",
   "metadata": {},
   "source": [
    "#### Comparing the number of layers\n",
    "\n",
    "We can compare the number of *layers* between the original and the compiled circuit. \n",
    "\n",
    "A *layer* is comprised of all quantum operations that can be executed concurrently, before the quantum device executes the next cycle of operations.\n",
    "\n",
    "<img src=\"https://qiskit.org/documentation/locale/de_DE/_images/depth.gif\" width=\"800 px\" />"
   ]
  },
  {
   "cell_type": "code",
   "execution_count": 18,
   "metadata": {},
   "outputs": [
    {
     "name": "stdout",
     "output_type": "stream",
     "text": [
      "Original circuit\n",
      "Depth: 4\n",
      "Gate counts: OrderedDict([('measure', 3), ('x', 2), ('ccx', 1), ('cx', 1), ('barrier', 1)])\n",
      "\n",
      "Optimization Level 0\n",
      "Depth: 53\n",
      "Gate counts: OrderedDict([('rz', 33), ('sx', 24), ('cx', 13), ('measure', 3), ('x', 2), ('barrier', 1)])\n",
      "\n",
      "Optimization Level 1\n",
      "Depth: 20\n",
      "Gate counts: OrderedDict([('cx', 11), ('rz', 10), ('measure', 3), ('x', 2), ('sx', 2), ('barrier', 1)])\n",
      "\n",
      "Optimization Level 2\n",
      "Depth: 20\n",
      "Gate counts: OrderedDict([('cx', 11), ('rz', 10), ('measure', 3), ('x', 2), ('sx', 2), ('barrier', 1)])\n",
      "\n",
      "Optimization Level 3\n",
      "Depth: 27\n",
      "Gate counts: OrderedDict([('rz', 19), ('sx', 16), ('cx', 7), ('measure', 3), ('x', 1), ('barrier', 1)])\n",
      "\n"
     ]
    }
   ],
   "source": [
    "print('Original circuit')\n",
    "print('Depth:', half_adder.depth())\n",
    "print('Gate counts:', half_adder.count_ops())\n",
    "print()\n",
    "\n",
    "circlist=[]\n",
    "for kk in range(4):\n",
    "    circ = transpile(half_adder, backend, optimization_level=kk)\n",
    "    circlist.append(circ)\n",
    "    print('Optimization Level {}'.format(kk))\n",
    "    print('Depth:', circ.depth())\n",
    "    print('Gate counts:', circ.count_ops())\n",
    "    print()"
   ]
  },
  {
   "cell_type": "markdown",
   "metadata": {},
   "source": [
    "We can also visually see which qubits are used for the circuit."
   ]
  },
  {
   "cell_type": "code",
   "execution_count": 19,
   "metadata": {},
   "outputs": [
    {
     "data": {
      "image/png": "[encoded data removed]",
      "text/plain": [
       "<Figure size 360x360 with 1 Axes>"
      ]
     },
     "execution_count": 19,
     "metadata": {},
     "output_type": "execute_result"
    }
   ],
   "source": [
    "plot_circuit_layout(circlist[0], physical_backend)"
   ]
  },
  {
   "cell_type": "code",
   "execution_count": 20,
   "metadata": {},
   "outputs": [
    {
     "data": {
      "image/png": "[encoded data removed]",
      "text/plain": [
       "<Figure size 360x360 with 1 Axes>"
      ]
     },
     "execution_count": 20,
     "metadata": {},
     "output_type": "execute_result"
    }
   ],
   "source": [
    "plot_circuit_layout(circlist[3], physical_backend)"
   ]
  },
  {
   "cell_type": "markdown",
   "metadata": {},
   "source": [
    "#### Comparing results"
   ]
  },
  {
   "cell_type": "code",
   "execution_count": 21,
   "metadata": {},
   "outputs": [
    {
     "data": {
      "application/vnd.jupyter.widget-view+json": {
       "model_id": "e9edcf514e71435fa9900ca64d7df06b",
       "version_major": 2,
       "version_minor": 0
      },
      "text/plain": [
       "Accordion(children=(VBox(layout=Layout(max_width='710px', min_width='710px')),), layout=Layout(max_height='500…"
      ]
     },
     "metadata": {},
     "output_type": "display_data"
    },
    {
     "data": {
      "application/javascript": [
       "$('div.job_widget')\n",
       "        .detach()\n",
       "        .appendTo($('#header'))\n",
       "        .css({\n",
       "            'z-index': 999,\n",
       "             'position': 'fixed',\n",
       "            'box-shadow': '5px 5px 5px -3px black',\n",
       "            'opacity': 0.95,\n",
       "            'float': 'left,'\n",
       "        })\n",
       "        "
      ],
      "text/plain": [
       "<IPython.core.display.Javascript object>"
      ]
     },
     "metadata": {},
     "output_type": "display_data"
    }
   ],
   "source": [
    "# Execute the DJ algorithm on physical backend\n",
    "\n",
    "# Enable job monitoring\n",
    "%qiskit_job_watcher\n",
    "\n",
    "# To disable: %qiskit_disable_job_watcher\n",
    "\n",
    "job_ha_real = execute(circlist[1], physical_backend, shots=shots)"
   ]
  },
  {
   "cell_type": "code",
   "execution_count": 22,
   "metadata": {},
   "outputs": [],
   "source": [
    "# We can save the job ID to retrieve results even after closing the notebook\n",
    "job_ha_real.job_id()\n",
    "\n",
    "# This can be achieved using the retrieve_job('ID') method\n",
    "job_ha_real = physical_backend.retrieve_job('607013b5df2031b98305da88')"
   ]
  },
  {
   "cell_type": "code",
   "execution_count": 23,
   "metadata": {},
   "outputs": [
    {
     "data": {
      "text/plain": [
       "<JobStatus.DONE: 'job has successfully run'>"
      ]
     },
     "execution_count": 23,
     "metadata": {},
     "output_type": "execute_result"
    }
   ],
   "source": [
    "# We can also check the job status\n",
    "job_ha_real.status()"
   ]
  },
  {
   "cell_type": "code",
   "execution_count": 24,
   "metadata": {},
   "outputs": [
    {
     "data": {
      "image/png": "[encoded data removed]",
      "text/plain": [
       "<Figure size 504x360 with 1 Axes>"
      ]
     },
     "execution_count": 24,
     "metadata": {},
     "output_type": "execute_result"
    }
   ],
   "source": [
    "result_ha_real = job_ha_real.result()\n",
    "counts_ha_real = result_ha_real.get_counts(half_adder)\n",
    "\n",
    "plot_histogram([counts_ha_real, counts_half_adder_sim], legend=[ 'real device', 'ideal'])"
   ]
  },
  {
   "cell_type": "markdown",
   "metadata": {},
   "source": [
    "&nbsp;\n",
    "\n",
    "# 2. Quantum Teleportation protocol<a id='quantumteleport'></a>\n",
    "\n",
    "&nbsp;\n",
    "\n",
    "Quantum teleportation is a protocol to transmit quantum states from one location to another, assisted by a previously shared entangled state and a classical communication channel. It was devised by Charles H. Bennett (IBM), Gilles Brassard, Claude Crépeau, Richard Jozsa, Asher Peres, and William K. Wootters in [1993](https://journals.aps.org/prl/abstract/10.1103/PhysRevLett.70.1895). It was first demonstrated with photons in [1997](http://www.nature.com/nature/journal/v390/n6660/abs/390575a0.html), and has since been realised in [atoms](http://www.nature.com/nphys/journal/v9/n7/abs/nphys2631.html), [ions](http://www.nature.com/nature/journal/v429/n6993/full/nature02570.html), [electrons](http://science.sciencemag.org/content/345/6196/532) and [superconducting circuits](http://www.nature.com/nature/journal/v500/n7462/full/nature12422.html). The [record](https://www.nature.com/articles/nature23675) distance for quantum teleportation is 1400 km via satellite.\n",
    "\n",
    "\n",
    "<img src=\"https://qiskit.org/textbook/ch-algorithms/images/tele1.jpg\" width=\"600 px\" align=\"center\">\n",
    "\n",
    "As illustrated above, the protocol starts out with a shared entangled state between the sender (Alice) and the receiver (Bob):\n",
    "$$|\\psi\\rangle_{AB} = \\frac{1}{\\sqrt{2}}(|0\\rangle_A \\otimes |0\\rangle_B + |1\\rangle_A \\otimes |1\\rangle_B)$$\n",
    "The first qubit, denoted by subscript $A$, belongs to Alice, and the second qubit, $B$, belongs to Bob.\n",
    "\n",
    "Alice has a quantum state that she wants to convey to Bob:\n",
    "$$|\\psi\\rangle_{C} = \\alpha|0\\rangle_C + \\beta|1\\rangle_C$$\n",
    "\n",
    "At this point, Alice has two quantum states ($C$, the one she wants to teleport, and $A$, one of the entangled pair), and Bob has one quantum state. The total state of the system is given by:\n",
    "$$|\\psi\\rangle_{AB} \\otimes |\\psi\\rangle_C = \\frac{1}{\\sqrt{2}}(|0\\rangle_A  |0\\rangle_B + |1\\rangle_A |1\\rangle_B) \\otimes (\\alpha|0_C\\rangle + \\beta|1_C\\rangle)$$\n",
    "\n",
    "\n",
    "Alice now measures her two quantum states, $A$ and $C$, in the [Bell basis](https://www.quantiki.org/wiki/bell-basis). This will collapse the three state system into the one of the following four states with equal probability, with the corresponding measurement outcomes:\n",
    "- **00**: $|\\Phi^+\\rangle_{AC}\\otimes(\\alpha|0\\rangle_B + \\beta|1\\rangle_B)$\n",
    "- **01**: $|\\Phi^-\\rangle_{AC}\\otimes(\\alpha|0\\rangle_B - \\beta|1\\rangle_B)$\n",
    "- **10**: $|\\Psi^+\\rangle_{AC}\\otimes(\\alpha|1\\rangle_B + \\beta|0\\rangle_B)$ \n",
    "- **11**: $|\\Psi^-\\rangle_{AC}\\otimes(-\\alpha|1\\rangle_B + \\beta|0\\rangle_B)$\n",
    "\n",
    "Alice now sends the results of her measurements to Bob. Using this information, he performs one of the following transformations on his quantum state to transform it to the desired state $\\alpha|0\\rangle_B + \\beta|1\\rangle_B$:\n",
    "\n",
    "- If he receives **00**, he applies $I = \\begin{pmatrix} 1 & 0 \\\\ 0 & 1 \\end{pmatrix}$\n",
    "- If he receives **01**, he applies $Z = \\begin{pmatrix} 1 & 0 \\\\ 0 & -1 \\end{pmatrix}$\n",
    "- If he receives **10**, he applies $X = \\begin{pmatrix} 0 & 1 \\\\ 1 & 0 \\end{pmatrix}$ \n",
    "- If he receives **11**, he applies $XZ = \\begin{pmatrix} 0 & -1 \\\\ 1 & 0 \\end{pmatrix}$ \n",
    "\n",
    "Transmission (teleportation) of $|\\psi\\rangle = \\alpha|0\\rangle + \\beta|1\\rangle$ is thus achieved. "
   ]
  },
  {
   "cell_type": "markdown",
   "metadata": {},
   "source": [
    "<div class=\"alert alert-block alert-warning\">\n",
    "\n",
    "**Exercise 2 - Implementing the quantum teleportation protocol**\n",
    "\n",
    "&nbsp;\n",
    "\n",
    "Implement the quantum teleportation protocol in the cell below. For this example, we can admit that the quantum state to teleport is $|qc \\rangle = \\frac{1}{2} |0\\rangle + \\frac{\\sqrt{3}}{2} |1\\rangle$.\n",
    "\n",
    "&nbsp;\n",
    "\n",
    "\n",
    "The protocol can be broken down into several steps:\n",
    "\n",
    "- Entangle qubits `qa` and `qb` so that $|qa \\; qb \\rangle = |00\\rangle + |11\\rangle$. This can be achieved with a Hadamard and a CNOT gate;\n",
    "\n",
    "\n",
    "- Prepare the state $|qc\\rangle$ as stated above; this can be achieved by a rotation around the y-axis of the qubit, which can be performed by the Ry gate: `ry(pi/3, qc)`;\n",
    "\n",
    "\n",
    "- To measure Alice's qubits in the [Bell basis](https://www.quantiki.org/wiki/bell-basis), she first has to apply the inverse of the entanglement operation on her two qubits - a `CNOT` followed by a Hadamard (this is already filled below);\n",
    "\n",
    "\n",
    "- Measure `qa` into bit $b_0$ and `qb` into bit $b_1$; as per the order above, $b_0 b_1 = A \\, C$;\n",
    "\n",
    "\n",
    "- Apply gate `Z` to `qb` if $b_0 = 1$, and apply `X` to `qb` if $b_1 = 1$;\n",
    "\n",
    "\n",
    "- To verify that the protocol worked correctly, reverse `qb` into $|0\\rangle$ by applying the inverse of the initial operation on `qc`: `ry(-pi/3, qc)`\n",
    "\n",
    "\n",
    "If the protocol was correctly applied, Bob should measure `0` independetly of Alice's results.\n",
    "</div>\n",
    "\n",
    "\n",
    "<div class=\"alert alert-block alert-info\">\n",
    "    \n",
    "**Quantum operations with classical controls**\n",
    "\n",
    "Qiskit allows for any quantum operation to be performed conditionally. For that, you need to append `c_if(bit, value)` to the original gate. \n",
    "\n",
    "E.g. to apply the Z gate to qubit `qb` if bit `b[0]` == 1: `qc.z(qb).c_if(b[0], 1)`\n",
    "\n",
    "</div>"
   ]
  },
  {
   "cell_type": "markdown",
   "metadata": {},
   "source": [
    "Refs: \n",
    "* [Qiskit textbook teleportation](https://qiskit.org/textbook/ch-algorithms/teleportation.html)\n",
    "* [quantum teleportation](https://www.youtube.com/watch?v=DxQK1WDYI_k&list=PL0E2ABD1D84697428&index=15)"
   ]
  },
  {
   "cell_type": "code",
   "execution_count": 3,
   "metadata": {},
   "outputs": [
    {
     "data": {
      "image/png": "[encoded data removed]",
      "text/plain": [
       "<Figure size 761.778x385.28 with 1 Axes>"
      ]
     },
     "execution_count": 3,
     "metadata": {},
     "output_type": "execute_result"
    }
   ],
   "source": [
    "# Qubits A, B and C as separate registers\n",
    "qc = QuantumRegister(1, 'qc')\n",
    "qa = QuantumRegister(1, 'qa')\n",
    "qb = QuantumRegister(1, 'qb')\n",
    "\n",
    "# Alice needs two bits; Bob needs one\n",
    "c_alice0 = ClassicalRegister(1)\n",
    "c_alice1 = ClassicalRegister(1)\n",
    "c_bob = ClassicalRegister(1)\n",
    "\n",
    "# Initialize circuit\n",
    "teleport = QuantumCircuit(qc, qa, qb, c_alice0, c_alice1, c_bob)\n",
    "\n",
    "# Entangle qa and qb\n",
    "teleport.h(qa)\n",
    "teleport.cx(qa,qb)\n",
    "\n",
    "# Prepare state |qc> on qubit qc\n",
    "teleport.ry(pi/3, qc)\n",
    "teleport.barrier()\n",
    "\n",
    "\n",
    "# Project qc and qa into the Bell basis\n",
    "teleport.cx(qc, qa)\n",
    "teleport.h(qc)\n",
    "\n",
    "# Measure qc and qa into c_alice[0] and c_alice[1]\n",
    "teleport.measure(qa,c_alice0)\n",
    "teleport.measure(qc,c_alice1)\n",
    "teleport.barrier()\n",
    "\n",
    "# Perform conditional operations on qb\n",
    "teleport.z(qb).c_if(c_alice0, 1)\n",
    "teleport.x(qb).c_if(c_alice1, 1)\n",
    "\n",
    "# Revert qb to |0>\n",
    "teleport.ry(-pi/3, qb)\n",
    "\n",
    "# Measure qb to c_bob\n",
    "teleport.measure(qb,c_bob)\n",
    "\n",
    "# Draw circuit\n",
    "teleport.draw(output='mpl')"
   ]
  },
  {
   "cell_type": "code",
   "execution_count": 42,
   "metadata": {},
   "outputs": [
    {
     "data": {
      "image/png": "[encoded data removed]",
      "text/plain": [
       "<Figure size 504x360 with 1 Axes>"
      ]
     },
     "execution_count": 42,
     "metadata": {},
     "output_type": "execute_result"
    }
   ],
   "source": [
    "sim_backend = Aer.get_backend('qasm_simulator')\n",
    "\n",
    "shots = 1000\n",
    "\n",
    "job_teleport = execute(teleport,sim_backend,shots=shots)\n",
    "\n",
    "result_teleport = job_teleport.result()\n",
    "counts_teleport = result_teleport.get_counts(teleport)\n",
    "\n",
    "plot_histogram(counts_teleport)"
   ]
  },
  {
   "cell_type": "code",
   "execution_count": 43,
   "metadata": {},
   "outputs": [
    {
     "data": {
      "text/plain": [
       "{'0 0 0': 252, '0 1 1': 274, '1 0 1': 229, '1 1 0': 245}"
      ]
     },
     "execution_count": 43,
     "metadata": {},
     "output_type": "execute_result"
    }
   ],
   "source": [
    "counts_teleport"
   ]
  },
  {
   "cell_type": "code",
   "execution_count": 44,
   "metadata": {},
   "outputs": [
    {
     "data": {
      "image/png": "[encoded data removed]",
      "text/plain": [
       "<Figure size 504x360 with 1 Axes>"
      ]
     },
     "execution_count": 44,
     "metadata": {},
     "output_type": "execute_result"
    }
   ],
   "source": [
    "teleport.measure(qb, c_bob)\n",
    "new_counts = {'0': 0, '1': 0}\n",
    "for qbits in counts_teleport:\n",
    "  new_counts[qbits[0]] += counts_teleport[qbits]\n",
    "\n",
    "plot_histogram(new_counts)"
   ]
  },
  {
   "cell_type": "code",
   "execution_count": null,
   "metadata": {},
   "outputs": [],
   "source": []
  }
 ],
 "metadata": {
  "anaconda-cloud": {},
  "celltoolbar": "Hide code",
  "kernelspec": {
   "display_name": "Python 3",
   "language": "python",
   "name": "python3"
  },
  "language_info": {
   "codemirror_mode": {
    "name": "ipython",
    "version": 3
   },
   "file_extension": ".py",
   "mimetype": "text/x-python",
   "name": "python",
   "nbconvert_exporter": "python",
   "pygments_lexer": "ipython3",
   "version": "3.8.0"
  }
 },
 "nbformat": 4,
 "nbformat_minor": 2
}
